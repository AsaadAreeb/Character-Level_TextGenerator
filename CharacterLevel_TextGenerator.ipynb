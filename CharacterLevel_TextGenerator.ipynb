{
  "nbformat": 4,
  "nbformat_minor": 0,
  "metadata": {
    "colab": {
      "provenance": []
    },
    "kernelspec": {
      "name": "python3",
      "display_name": "Python 3"
    },
    "language_info": {
      "name": "python"
    }
  },
  "cells": [
    {
      "cell_type": "code",
      "source": [
        "!pip install unidecode"
      ],
      "metadata": {
        "colab": {
          "base_uri": "https://localhost:8080/"
        },
        "id": "M74O_bgmkvPr",
        "outputId": "3ab85928-0f0f-4aef-d04c-d5e502551ee7"
      },
      "execution_count": 4,
      "outputs": [
        {
          "output_type": "stream",
          "name": "stdout",
          "text": [
            "Collecting unidecode\n",
            "  Downloading Unidecode-1.3.6-py3-none-any.whl (235 kB)\n",
            "\u001b[?25l     \u001b[90m━━━━━━━━━━━━━━━━━━━━━━━━━━━━━━━━━━━━━━━━\u001b[0m \u001b[32m0.0/235.9 kB\u001b[0m \u001b[31m?\u001b[0m eta \u001b[36m-:--:--\u001b[0m\r\u001b[2K     \u001b[91m━━━━━━━━━━━━━━━━━━━━━━━\u001b[0m\u001b[91m╸\u001b[0m\u001b[90m━━━━━━━━━━━━━━━\u001b[0m \u001b[32m143.4/235.9 kB\u001b[0m \u001b[31m4.0 MB/s\u001b[0m eta \u001b[36m0:00:01\u001b[0m\r\u001b[2K     \u001b[90m━━━━━━━━━━━━━━━━━━━━━━━━━━━━━━━━━━━━━━━\u001b[0m \u001b[32m235.9/235.9 kB\u001b[0m \u001b[31m4.6 MB/s\u001b[0m eta \u001b[36m0:00:00\u001b[0m\n",
            "\u001b[?25hInstalling collected packages: unidecode\n",
            "Successfully installed unidecode-1.3.6\n"
          ]
        }
      ]
    },
    {
      "cell_type": "code",
      "execution_count": 48,
      "metadata": {
        "colab": {
          "base_uri": "https://localhost:8080/"
        },
        "id": "-HpbY6TNTnKq",
        "outputId": "eb9cfcc6-f39b-430f-f99c-84bceb943855"
      },
      "outputs": [
        {
          "output_type": "stream",
          "name": "stdout",
          "text": [
            "file_len = 104576\n"
          ]
        }
      ],
      "source": [
        "import unidecode\n",
        "import string\n",
        "import random\n",
        "import re\n",
        "\n",
        "all_characters = string.printable\n",
        "n_characters = len(all_characters)\n",
        "\n",
        "file = unidecode.unidecode(open('/content/drive/MyDrive/textgenerationData/QuaideAzam.txt').read())\n",
        "file_len = len(file)\n",
        "print('file_len =', file_len)"
      ]
    },
    {
      "cell_type": "code",
      "source": [
        "chunk_len = 200\n",
        "\n",
        "def random_chunk():\n",
        "    start_index = random.randint(0, file_len - chunk_len)\n",
        "    end_index = start_index + chunk_len + 1\n",
        "    return file[start_index:end_index]\n",
        "\n",
        "print(random_chunk())"
      ],
      "metadata": {
        "colab": {
          "base_uri": "https://localhost:8080/"
        },
        "id": "F-AM4MpjkrLI",
        "outputId": "c335e35b-3a48-4c84-936f-3ee99eae9f4a"
      },
      "execution_count": 49,
      "outputs": [
        {
          "output_type": "stream",
          "name": "stdout",
          "text": [
            "phrases are used such as Purna Swaraj, selfgovernment, complete independence, responsible government, substance of independence, and dominion status. There are some who talk of complete independence. B\n"
          ]
        }
      ]
    },
    {
      "cell_type": "code",
      "source": [
        "import torch\n",
        "import torch.nn as nn\n",
        "from torch.autograd import Variable\n",
        "\n",
        "class RNN(nn.Module):\n",
        "    def __init__(self, input_size, hidden_size, output_size, n_layers=1):\n",
        "        super(RNN, self).__init__()\n",
        "        self.input_size = input_size\n",
        "        self.hidden_size = hidden_size\n",
        "        self.output_size = output_size\n",
        "        self.n_layers = n_layers\n",
        "\n",
        "        self.encoder = nn.Embedding(input_size, hidden_size)\n",
        "        self.gru = nn.GRU(hidden_size, hidden_size, n_layers)\n",
        "        self.decoder = nn.Linear(hidden_size, output_size)\n",
        "\n",
        "    def forward(self, input, hidden):\n",
        "        input = self.encoder(input.view(1, -1))\n",
        "        output, hidden = self.gru(input.view(1, 1, -1), hidden)\n",
        "        output = self.decoder(output.view(1, -1))\n",
        "        return output, hidden\n",
        "\n",
        "    def init_hidden(self):\n",
        "        return Variable(torch.zeros(self.n_layers, 1, self.hidden_size))"
      ],
      "metadata": {
        "id": "KXAN7c-y11sD"
      },
      "execution_count": 50,
      "outputs": []
    },
    {
      "cell_type": "code",
      "source": [
        "# Turn string into list of longs\n",
        "def char_tensor(string):\n",
        "    tensor = torch.zeros(len(string)).long()\n",
        "    for c in range(len(string)):\n",
        "        tensor[c] = all_characters.index(string[c])\n",
        "    return Variable(tensor)\n",
        "\n",
        "print(char_tensor('abcDEF'))"
      ],
      "metadata": {
        "colab": {
          "base_uri": "https://localhost:8080/"
        },
        "id": "7-AiK8i65Vns",
        "outputId": "1d2cb519-5bba-4d84-f492-7afb314cffde"
      },
      "execution_count": 51,
      "outputs": [
        {
          "output_type": "stream",
          "name": "stdout",
          "text": [
            "tensor([10, 11, 12, 39, 40, 41])\n"
          ]
        }
      ]
    },
    {
      "cell_type": "code",
      "source": [
        "def random_training_set():\n",
        "    chunk = random_chunk()\n",
        "    inp = char_tensor(chunk[:-1])\n",
        "    target = char_tensor(chunk[1:])\n",
        "    # print(inp.shape)\n",
        "    # print(target.shape)\n",
        "    return inp, target"
      ],
      "metadata": {
        "id": "7N-0fEsT6IEr"
      },
      "execution_count": 52,
      "outputs": []
    },
    {
      "cell_type": "code",
      "source": [
        "random_training_set()"
      ],
      "metadata": {
        "colab": {
          "base_uri": "https://localhost:8080/"
        },
        "id": "9xSUYpxpDogj",
        "outputId": "f3cbba91-7c40-4c7c-b17a-9ccb3a8204fa"
      },
      "execution_count": 53,
      "outputs": [
        {
          "output_type": "execute_result",
          "data": {
            "text/plain": [
              "(tensor([94, 29, 24, 94, 12, 24, 22, 14, 94, 29, 24, 94, 29, 17, 10, 29, 94, 36,\n",
              "         28, 28, 14, 22, 11, 21, 34, 73, 94, 10, 23, 13, 94, 29, 17, 14, 23, 94,\n",
              "         28, 10, 34, 28, 94, 74, 74, 94, 63, 13, 14, 12, 21, 10, 27, 14, 94, 29,\n",
              "         17, 10, 29, 94, 29, 17, 14, 27, 14, 94, 18, 28, 94, 23, 24, 29, 17, 18,\n",
              "         23, 16, 94, 12, 24, 22, 22, 24, 23, 94, 11, 14, 29, 32, 14, 14, 23, 94,\n",
              "         43, 18, 23, 13, 30, 28, 94, 10, 23, 13, 94, 48, 30, 28, 21, 18, 22, 28,\n",
              "         73, 94, 29, 17, 14, 23, 94, 10, 21, 24, 23, 14, 94, 44, 94, 32, 24, 30,\n",
              "         21, 13, 94, 16, 18, 31, 14, 94, 30, 25, 94, 10, 21, 21, 94, 17, 24, 25,\n",
              "         14, 73, 94, 11, 30, 29, 94, 14, 31, 14, 23, 94, 29, 17, 14, 23, 94, 44,\n",
              "         94, 32, 24, 30, 21, 13, 94, 10, 16, 27, 14, 14, 94, 32, 18, 29, 17, 94,\n",
              "         29, 17, 14, 22, 94, 11, 14, 12, 10, 30, 28, 14, 94, 29, 17, 14, 34, 94,\n",
              "         27, 14]),\n",
              " tensor([29, 24, 94, 12, 24, 22, 14, 94, 29, 24, 94, 29, 17, 10, 29, 94, 36, 28,\n",
              "         28, 14, 22, 11, 21, 34, 73, 94, 10, 23, 13, 94, 29, 17, 14, 23, 94, 28,\n",
              "         10, 34, 28, 94, 74, 74, 94, 63, 13, 14, 12, 21, 10, 27, 14, 94, 29, 17,\n",
              "         10, 29, 94, 29, 17, 14, 27, 14, 94, 18, 28, 94, 23, 24, 29, 17, 18, 23,\n",
              "         16, 94, 12, 24, 22, 22, 24, 23, 94, 11, 14, 29, 32, 14, 14, 23, 94, 43,\n",
              "         18, 23, 13, 30, 28, 94, 10, 23, 13, 94, 48, 30, 28, 21, 18, 22, 28, 73,\n",
              "         94, 29, 17, 14, 23, 94, 10, 21, 24, 23, 14, 94, 44, 94, 32, 24, 30, 21,\n",
              "         13, 94, 16, 18, 31, 14, 94, 30, 25, 94, 10, 21, 21, 94, 17, 24, 25, 14,\n",
              "         73, 94, 11, 30, 29, 94, 14, 31, 14, 23, 94, 29, 17, 14, 23, 94, 44, 94,\n",
              "         32, 24, 30, 21, 13, 94, 10, 16, 27, 14, 14, 94, 32, 18, 29, 17, 94, 29,\n",
              "         17, 14, 22, 94, 11, 14, 12, 10, 30, 28, 14, 94, 29, 17, 14, 34, 94, 27,\n",
              "         14, 10]))"
            ]
          },
          "metadata": {},
          "execution_count": 53
        }
      ]
    },
    {
      "cell_type": "code",
      "source": [
        "def evaluate(prime_str='A', predict_len=100, temperature=0.8):\n",
        "    hidden = decoder.init_hidden()\n",
        "    prime_input = char_tensor(prime_str)\n",
        "    predicted = prime_str\n",
        "\n",
        "    # Use priming string to \"build up\" hidden state\n",
        "    for p in range(len(prime_str) - 1):\n",
        "        _, hidden = decoder(prime_input[p], hidden)\n",
        "    inp = prime_input[-1]\n",
        "\n",
        "    for p in range(predict_len):\n",
        "        output, hidden = decoder(inp, hidden)\n",
        "\n",
        "        # Sample from the network as a multinomial distribution\n",
        "        output_dist = output.data.view(-1).div(temperature).exp()\n",
        "        top_i = torch.multinomial(output_dist, 1)[0]\n",
        "\n",
        "        # Add predicted character to string and use as next input\n",
        "        predicted_char = all_characters[top_i]\n",
        "        predicted += predicted_char\n",
        "        inp = char_tensor(predicted_char)\n",
        "\n",
        "    return predicted"
      ],
      "metadata": {
        "id": "BKRwJm-m7cQv"
      },
      "execution_count": 54,
      "outputs": []
    },
    {
      "cell_type": "code",
      "source": [
        "import time, math\n",
        "\n",
        "def time_since(since):\n",
        "    s = time.time() - since\n",
        "    m = math.floor(s / 60)\n",
        "    s -= m * 60\n",
        "    return '%dm %ds' % (m, s)"
      ],
      "metadata": {
        "id": "G2N_IVXh-quM"
      },
      "execution_count": 55,
      "outputs": []
    },
    {
      "cell_type": "code",
      "source": [
        "def train(inp, target):\n",
        "    hidden = decoder.init_hidden()\n",
        "    decoder.zero_grad()\n",
        "    loss = 0\n",
        "\n",
        "    for c in range(chunk_len):\n",
        "        output, hidden = decoder(inp[c], hidden)\n",
        "        loss += criterion(output, target[c].unsqueeze(0))\n",
        "\n",
        "    loss.backward()\n",
        "    decoder_optimizer.step()\n",
        "\n",
        "    return loss.data.item() / (chunk_len - 1)"
      ],
      "metadata": {
        "id": "M32rlkPN_Aua"
      },
      "execution_count": 56,
      "outputs": []
    },
    {
      "cell_type": "code",
      "source": [
        "n_epochs = 2000\n",
        "print_every = 100\n",
        "plot_every = 10\n",
        "hidden_size = 100\n",
        "n_layers = 1\n",
        "lr = 0.005\n",
        "\n",
        "decoder = RNN(n_characters, hidden_size, n_characters, n_layers)\n",
        "decoder_optimizer = torch.optim.Adam(decoder.parameters(), lr=lr)\n",
        "criterion = nn.CrossEntropyLoss()\n",
        "\n",
        "start = time.time()\n",
        "all_losses = []\n",
        "loss_avg = 0\n",
        "\n",
        "for epoch in range(1, n_epochs + 1):\n",
        "    loss = train(*random_training_set())\n",
        "    loss_avg += loss\n",
        "\n",
        "    if epoch % print_every == 0:\n",
        "        print('[%s (%d %d%%) %.4f]' % (time_since(start), epoch, epoch/n_epochs * 100, loss))\n",
        "        print(evaluate('Wh', 100), '\\n')\n",
        "\n",
        "    if epoch % plot_every == 0:\n",
        "        all_losses.append(loss_avg / plot_every)\n",
        "        loss_avg = 0"
      ],
      "metadata": {
        "colab": {
          "base_uri": "https://localhost:8080/"
        },
        "id": "lVvQAAylAZ_o",
        "outputId": "7ee2ecdd-350d-4a43-edee-decb8b3754e3"
      },
      "execution_count": 57,
      "outputs": [
        {
          "output_type": "stream",
          "name": "stdout",
          "text": [
            "[0m 16s (100 5%) 2.0801]\n",
            "Wh. Breteag. teand was belea yo wes, wave worh ant age sablerat of aw emesande cetheekeard you sons we \n",
            "\n",
            "[0m 33s (200 10%) 2.0520]\n",
            "Where whatill allive sectia wirns ardiong and inr that can the conrpill and the Muh you the fores. Tha \n",
            "\n",
            "[0m 50s (300 15%) 1.8539]\n",
            "Wh butory hing whas [ing the tikighent take in.] Lakers whus the as pre of are pority and pay the cons \n",
            "\n",
            "[1m 6s (400 20%) 1.8135]\n",
            "Wh be your youghen I whish leards, Erot this the his leffellfered in agurenertan, they a le with the s \n",
            "\n",
            "[1m 22s (500 25%) 1.6227]\n",
            "Whish mal I ciered the Muslim Leighter instay ownh and sure the mainrity the man restore effere and to \n",
            "\n",
            "[1m 38s (600 30%) 1.5762]\n",
            "Whques and propprorgan as unition, the provincect and the sice the now ember concearition the Muslims  \n",
            "\n",
            "[1m 55s (700 35%) 1.9661]\n",
            "Whish ment consistande our recially vere scho sup our and connestitution and and shour considere, oner \n",
            "\n",
            "[2m 11s (800 40%) 1.6965]\n",
            "Whis's are deveral of I shed the the Muslim League aindish what is is a dearsed I deveral devepples a  \n",
            "\n",
            "[2m 35s (900 45%) 1.5177]\n",
            "Wh such intence soul in oble may a may before of India is do in that may contectualwing that war from  \n",
            "\n",
            "[2m 52s (1000 50%) 1.8225]\n",
            "Wh we to of the fere with Muslim mapter with all 18th to polctory to that has providation and distourn \n",
            "\n",
            "[3m 13s (1100 55%) 1.6359]\n",
            "Wh. They scocy, is sority. May respoled subc0 in and cans buent not resiption? They stres of this no s \n",
            "\n",
            "[3m 30s (1200 60%) 1.4796]\n",
            "Wh sorans to serentary India, and sentive epentes condizen, theree partion.\n",
            "Aplesttal be me the politi \n",
            "\n",
            "[3m 47s (1300 65%) 1.4275]\n",
            "Who but [a] are interal reple world. Dorally of that the Allfical if that and it its ter India. Cen [= \n",
            "\n",
            "[4m 3s (1400 70%) 1.6420]\n",
            "Why real now tesle so us be terguan examing--I the fart the undition as the it. The let us the Muslim  \n",
            "\n",
            "[4m 20s (1500 75%) 1.7467]\n",
            "What friene this clexargess politions. The presided, of the Congress to flared your mion is recailly a \n",
            "\n",
            "[4m 37s (1600 80%) 1.6273]\n",
            "Who by land reation that shation ableds frot when we are indecide of that the Muslimencial in the from \n",
            "\n",
            "[4m 54s (1700 85%) 1.6820]\n",
            "Wh Government all commabil as and the Arabought it exprovett a propoves and that withles it is good, t \n",
            "\n",
            "[5m 12s (1800 90%) 1.6857]\n",
            "Whander. I, and the prepared a your some the Constituent and those for the Congress that India's parrt \n",
            "\n",
            "[5m 29s (1900 95%) 1.9230]\n",
            "Why Muslim League. Ong up fore fariess of Indiative by from the ofort.\"\n",
            "As such reight plain worsestib \n",
            "\n",
            "[5m 45s (2000 100%) 1.6073]\n",
            "Wh that, think, that lext the Corratition, when the percent to the peoples are intery which the Musalm \n",
            "\n"
          ]
        }
      ]
    },
    {
      "cell_type": "code",
      "source": [
        "import matplotlib.pyplot as plt\n",
        "import matplotlib.ticker as ticker\n",
        "%matplotlib inline\n",
        "\n",
        "plt.figure()\n",
        "plt.plot(all_losses)"
      ],
      "metadata": {
        "colab": {
          "base_uri": "https://localhost:8080/",
          "height": 447
        },
        "id": "A0cZKIXwChqe",
        "outputId": "b6d698a7-daf3-4515-c832-475a21f61e01"
      },
      "execution_count": 58,
      "outputs": [
        {
          "output_type": "execute_result",
          "data": {
            "text/plain": [
              "[<matplotlib.lines.Line2D at 0x7c927569b130>]"
            ]
          },
          "metadata": {},
          "execution_count": 58
        },
        {
          "output_type": "display_data",
          "data": {
            "text/plain": [
              "<Figure size 640x480 with 1 Axes>"
            ],
            "image/png": "[encoded data removed]"
          },
          "metadata": {}
        }
      ]
    },
    {
      "cell_type": "code",
      "source": [
        "print(evaluate('Th', 200, temperature=0.8))"
      ],
      "metadata": {
        "colab": {
          "base_uri": "https://localhost:8080/"
        },
        "id": "wiQOp5NEIE5K",
        "outputId": "d4949671-a346-4fba-a9b9-40d7e9dc5dad"
      },
      "execution_count": 59,
      "outputs": [
        {
          "output_type": "stream",
          "name": "stdout",
          "text": [
            "These Pajends of this a devised of the forge the lave the said. You when that be relemblents im that the Musalman in dever the grise. The can repecisually be the sing to have great do no stated to domin\n"
          ]
        }
      ]
    },
    {
      "cell_type": "code",
      "source": [
        "print(evaluate('Th', 200, temperature=0.2))"
      ],
      "metadata": {
        "colab": {
          "base_uri": "https://localhost:8080/"
        },
        "id": "dxYVdaueIFZI",
        "outputId": "c5013d92-3ab6-44e0-9b4b-688ac22d710a"
      },
      "execution_count": 60,
      "outputs": [
        {
          "output_type": "stream",
          "name": "stdout",
          "text": [
            "The said the Congress the Muslim League of the of the Congress that the last the fore the Congress that the light the last the Muslim League. The realise that the last the Congress and demority of the C\n"
          ]
        }
      ]
    },
    {
      "cell_type": "code",
      "source": [
        "print(evaluate('Th', 200, temperature=1.4))"
      ],
      "metadata": {
        "colab": {
          "base_uri": "https://localhost:8080/"
        },
        "id": "C7fKra9cII1r",
        "outputId": "866d5d7f-22a2-4550-80fb-6bd5c239ca6a"
      },
      "execution_count": 61,
      "outputs": [
        {
          "output_type": "stream",
          "name": "stdout",
          "text": [
            "That natiogal way of Primations, we prestate goals', Indus whothe. Gao{ stupt ah thore live difffureg. Catckemticome. Every up prepiragamin?\n",
            "One of power. Mad.\n",
            "Ongse har. 'f I smilnd [e thist, that mini\n"
          ]
        }
      ]
    },
    {
      "cell_type": "code",
      "source": [],
      "metadata": {
        "id": "f6nBl4viIyrw"
      },
      "execution_count": null,
      "outputs": []
    }
  ]
}